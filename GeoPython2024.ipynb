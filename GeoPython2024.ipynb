{
 "cells": [
  {
   "attachments": {},
   "cell_type": "markdown",
   "metadata": {},
   "source": [
    "# Getting the most out of GeoPandas 1.0\n",
    "\n",
    "After 10 years since the first release, GeoPandas reached version 1.0. This workshop will showcase how to get the most out of the recent enhancements and develop a code ready for 2024 and beyond.\n",
    "\n",
    "**Martin Fleischmann, Joris van den Bossche**\n",
    "\n",
    "27/05/2024, Basel\n",
    "\n",
    "## Setup\n",
    "\n",
    "Follow the ReadMe to set up the environment correctly. You should have these packages installed:\n",
    "\n",
    "```\n",
    "- geopandas 1.0dev\n",
    "- pyarrow\n",
    "- geodatasets\n",
    "- matplotlib\n",
    "- folium\n",
    "- mapclassify\n",
    "```\n",
    "\n",
    "## What is GeoPandas?\n",
    "\n",
    "**Easy, fast and scalable geospatial analysis in Python**\n",
    "\n",
    "From the docs:\n",
    "\n",
    "> The goal of GeoPandas is to make working with geospatial data in python easier. It combines the capabilities of pandas and shapely, providing geospatial operations in pandas and a high-level interface to multiple geometries to shapely. GeoPandas enables you to easily do operations in python that would otherwise require a spatial database such as PostGIS."
   ]
  },
  {
   "cell_type": "code",
   "execution_count": null,
   "metadata": {},
   "outputs": [],
   "source": [
    "import geopandas\n",
    "import pandas\n",
    "import numpy\n",
    "from matplotlib.colors import ListedColormap\n",
    "\n",
    "from geodatasets import get_path"
   ]
  },
  {
   "cell_type": "markdown",
   "metadata": {},
   "source": [
    "## Union and the power of coverage\n",
    "\n",
    "GeoPandas had historically a `unary_union` property to get a union of all geometries into a single one. Since 1.0, the property is deprecated in favour of a new `union_all` method, that offers additional `method` keyword.\n",
    "\n",
    "See how it works on the example of NYC data."
   ]
  },
  {
   "cell_type": "code",
   "execution_count": null,
   "metadata": {},
   "outputs": [],
   "source": [
    "nyc = geopandas.read_file(get_path(\"geoda nyc education\"), columns=[\"BoroCode\"])\n",
    "nyc"
   ]
  },
  {
   "cell_type": "code",
   "execution_count": null,
   "metadata": {},
   "outputs": [],
   "source": [
    "nyc.explore(\"BoroCode\", tiles=\"Carto DB Positron\")"
   ]
  },
  {
   "cell_type": "markdown",
   "metadata": {},
   "source": [
    "Doing union of all geometries is a simple call of the `union_all()` method. However, if you know that the geometries form a coverage, you can instruct GeoPandas to use optimized coverage union algorithm under the hood."
   ]
  },
  {
   "cell_type": "code",
   "execution_count": null,
   "metadata": {},
   "outputs": [],
   "source": [
    "%timeit nyc.union_all()\n",
    "%timeit nyc.union_all(method=\"coverage\")"
   ]
  },
  {
   "cell_type": "markdown",
   "metadata": {},
   "source": [
    "Same option is exposed in the `dissolve` method, doing union within a group."
   ]
  },
  {
   "cell_type": "code",
   "execution_count": null,
   "metadata": {},
   "outputs": [],
   "source": [
    "boroughs = nyc.dissolve(\"BoroCode\")\n",
    "boroughs"
   ]
  },
  {
   "cell_type": "code",
   "execution_count": null,
   "metadata": {},
   "outputs": [],
   "source": [
    "boroughs.explore(tiles=\"CartoDB Positron\")"
   ]
  },
  {
   "cell_type": "markdown",
   "metadata": {},
   "source": [
    "In this specific case, both options return the same result but at a different performance cost. "
   ]
  },
  {
   "cell_type": "code",
   "execution_count": null,
   "metadata": {},
   "outputs": [],
   "source": [
    "%timeit nyc.dissolve(\"BoroCode\")\n",
    "%timeit nyc.dissolve(\"BoroCode\", method=\"coverage\")"
   ]
  },
  {
   "cell_type": "markdown",
   "metadata": {},
   "source": [
    "If you know that you are dealing with coverages, remember to specify the `method=\"coverage\"`."
   ]
  },
  {
   "cell_type": "markdown",
   "metadata": {},
   "source": [
    "## Dot density mapping using `sample_points()`\n",
    "\n",
    "Dot density mapping is a popular method of visualising data spread across multiple variables, like population counts per demographic group. While GeoPandas does not aim to provide advanced visualisation tooling, its new `sample_points()` method provides necessary tools to create a dot density map by hand.\n",
    "\n",
    "Load the data representing Chicago, that contains the population counts for 2014."
   ]
  },
  {
   "cell_type": "code",
   "execution_count": null,
   "metadata": {},
   "outputs": [],
   "source": [
    "chicago = geopandas.read_file(get_path(\"geoda chicago_health\"), columns=[\"Hisp14\", \"Blk14\", \"AS14\", \"Wht14\", \"TRACTCnt\"])\n",
    "chicago.head()"
   ]
  },
  {
   "cell_type": "markdown",
   "metadata": {},
   "source": [
    "The most basic dot density map is reflecting a single variable. In our case, population of people identified as white.\n",
    "\n",
    "You need to sample random points within each area. Given the large population, sample points so that one point represent 100 people."
   ]
  },
  {
   "cell_type": "code",
   "execution_count": null,
   "metadata": {},
   "outputs": [],
   "source": [
    "white = chicago.sample_points(chicago.Wht14 // 100, rng=42)\n",
    "white.head()"
   ]
  },
  {
   "cell_type": "markdown",
   "metadata": {},
   "source": [
    "The result can be directly plotted to a map, showing the density of white population across the city."
   ]
  },
  {
   "cell_type": "code",
   "execution_count": null,
   "metadata": {},
   "outputs": [],
   "source": [
    "ax = white.plot(color=\"k\", markersize=0.01, figsize=(8, 8))\n",
    "chicago.boundary.plot(ax=ax, color=\"k\", linewidth=0.2)\n",
    "ax.set_axis_off()"
   ]
  },
  {
   "cell_type": "markdown",
   "metadata": {},
   "source": [
    "The true power of dot density mapping comes with mutiple layers. Sample points for the other demographic groups."
   ]
  },
  {
   "cell_type": "code",
   "execution_count": null,
   "metadata": {},
   "outputs": [],
   "source": [
    "hispanic = chicago.sample_points(chicago.Hisp14 // 100, rng=42)\n",
    "black = chicago.sample_points(chicago.Blk14 // 100, rng=42)\n",
    "asian = chicago.sample_points(chicago.AS14 // 100, rng=42)"
   ]
  },
  {
   "cell_type": "markdown",
   "metadata": {},
   "source": [
    "With four `GeoSeries`, you can create a map manualy."
   ]
  },
  {
   "cell_type": "code",
   "execution_count": null,
   "metadata": {},
   "outputs": [],
   "source": [
    "ax = white.plot(color=\"#F2CF63\", markersize=0.01, figsize=(8, 8))\n",
    "hispanic.plot(color=\"#ADD9C9\", markersize=0.01, ax=ax)\n",
    "black.plot(color=\"#D96459\", markersize=0.01, ax=ax)\n",
    "asian.plot(color=\"#3B2F40\", markersize=0.01, ax=ax)\n",
    "ax.set_axis_off()"
   ]
  },
  {
   "cell_type": "markdown",
   "metadata": {},
   "source": [
    "Though it may be more useful, to turn it all into a single GeoDataFrame. For visualisation purposes, unioning all geometries within a group will work nicely."
   ]
  },
  {
   "cell_type": "code",
   "execution_count": null,
   "metadata": {},
   "outputs": [],
   "source": [
    "dot_density = geopandas.GeoDataFrame(\n",
    "    {\"population\": [\"white\", \"hispanic\", \"black\", \"asian\"]},\n",
    "    geometry=[\n",
    "        white.union_all(),\n",
    "        hispanic.union_all(),\n",
    "        black.union_all(),\n",
    "        asian.union_all(),\n",
    "    ],\n",
    "    crs=chicago.crs,\n",
    ")\n",
    "dot_density"
   ]
  },
  {
   "cell_type": "markdown",
   "metadata": {},
   "source": [
    "Now, you can use a single call to `plot()` to get a map, including a legend."
   ]
  },
  {
   "cell_type": "code",
   "execution_count": null,
   "metadata": {},
   "outputs": [],
   "source": [
    "cmap = ListedColormap([\"#3B2F40\", \"#D96459\", \"#ADD9C9\", \"#F2CF63\"])\n",
    "ax = dot_density.plot(\n",
    "    column=\"population\",\n",
    "    cmap=cmap,\n",
    "    legend=True,\n",
    "    markersize=0.01,\n",
    "    figsize=(8, 8),\n",
    "    legend_kwds=dict(loc=\"upper right\", bbox_to_anchor=(1, 0.95), frameon=False),\n",
    ")\n",
    "chicago.boundary.plot(ax=ax, color=\"k\", linewidth=0.1)\n",
    "ax.set_axis_off()"
   ]
  },
  {
   "cell_type": "markdown",
   "metadata": {},
   "source": [
    "The same also works with the interactive `explore()` method."
   ]
  },
  {
   "cell_type": "code",
   "execution_count": null,
   "metadata": {},
   "outputs": [],
   "source": [
    "m = chicago.boundary.explore(\n",
    "    tiles=\"Carto DB Positron\",\n",
    "    prefer_canvas=True,\n",
    "    color=\"black\",\n",
    "    )\n",
    "dot_density.explore(\n",
    "    column=\"population\",\n",
    "    cmap=cmap,\n",
    "    legend=True,\n",
    "    marker_kwds=dict(radius=1),\n",
    "    m=m\n",
    ")"
   ]
  },
  {
   "cell_type": "markdown",
   "metadata": {},
   "source": [
    "## Triangulation\n",
    "\n",
    "GeoPandas 1.0 brings methods for triangulation using the vertices of geometries. See the example of grocery locations in Chicago."
   ]
  },
  {
   "cell_type": "code",
   "execution_count": null,
   "metadata": {},
   "outputs": [],
   "source": [
    "groceries = geopandas.read_file(get_path(\"geoda groceries\"))\n",
    "groceries.head()"
   ]
  },
  {
   "cell_type": "code",
   "execution_count": null,
   "metadata": {},
   "outputs": [],
   "source": [
    "groceries.explore(tiles=\"CartoDB Positron\")"
   ]
  },
  {
   "cell_type": "markdown",
   "metadata": {},
   "source": [
    "### Voronoi polygons\n",
    "\n",
    "One new method allows you to generate Voronoi polygons around points."
   ]
  },
  {
   "cell_type": "code",
   "execution_count": null,
   "metadata": {},
   "outputs": [],
   "source": [
    "voronoi = groceries.voronoi_polygons()\n",
    "voronoi"
   ]
  },
  {
   "cell_type": "code",
   "execution_count": null,
   "metadata": {},
   "outputs": [],
   "source": [
    "m = voronoi.explore(tiles=\"CartoDB Positron\")\n",
    "groceries.explore(m=m, color=\"red\")"
   ]
  },
  {
   "cell_type": "markdown",
   "metadata": {},
   "source": [
    "Optionally, you can request just the edges of the tessellation as LineStrings."
   ]
  },
  {
   "cell_type": "code",
   "execution_count": null,
   "metadata": {},
   "outputs": [],
   "source": [
    "voronoi_edges = groceries.voronoi_polygons(only_edges=True)\n",
    "voronoi_edges"
   ]
  },
  {
   "cell_type": "code",
   "execution_count": null,
   "metadata": {},
   "outputs": [],
   "source": [
    "m = voronoi_edges.explore(tiles=\"CartoDB Positron\")\n",
    "groceries.explore(m=m, color=\"red\")"
   ]
  },
  {
   "cell_type": "markdown",
   "metadata": {},
   "source": [
    "### Delaunay\n",
    "\n",
    "The inverse of Voronoi is Delaunay triangulation, creating polygons between the vertices."
   ]
  },
  {
   "cell_type": "code",
   "execution_count": null,
   "metadata": {},
   "outputs": [],
   "source": [
    "delaunay = groceries.delaunay_triangles()\n",
    "delaunay"
   ]
  },
  {
   "cell_type": "code",
   "execution_count": null,
   "metadata": {},
   "outputs": [],
   "source": [
    "m = delaunay.explore(tiles=\"CartoDB Positron\")\n",
    "groceries.explore(m=m, color=\"red\")"
   ]
  },
  {
   "cell_type": "markdown",
   "metadata": {},
   "source": [
    "Again, you can optionally work only with the edges."
   ]
  },
  {
   "cell_type": "code",
   "execution_count": null,
   "metadata": {},
   "outputs": [],
   "source": [
    "delaunay_edges = groceries.delaunay_triangles(only_edges=True)\n",
    "delaunay_edges"
   ]
  },
  {
   "cell_type": "code",
   "execution_count": null,
   "metadata": {},
   "outputs": [],
   "source": [
    "m = delaunay_edges.explore(tiles=\"CartoDB Positron\")\n",
    "groceries.explore(m=m, color=\"red\")"
   ]
  },
  {
   "cell_type": "markdown",
   "metadata": {},
   "source": [
    "The same algorithms work not only on points, but also on any other geometry type, by extracting the vertices from individual geometries."
   ]
  },
  {
   "cell_type": "code",
   "execution_count": null,
   "metadata": {},
   "outputs": [],
   "source": [
    "chicago.head()"
   ]
  },
  {
   "cell_type": "code",
   "execution_count": null,
   "metadata": {},
   "outputs": [],
   "source": [
    "chicago_delaunay = chicago.delaunay_triangles(only_edges=True)\n",
    "\n",
    "m = chicago_delaunay.explore(tiles=\"CartoDB Positron\", prefer_canvas=True)\n",
    "chicago.boundary.explore(m=m, color=\"red\")"
   ]
  },
  {
   "cell_type": "markdown",
   "metadata": {},
   "source": [
    "TIP: If you want to generate Voronoi tessellation that treats LineStrings and Polygons as a whole, not returing polygons per each vertex, you can use the [`voronoi_frames`](https://pysal.org/libpysal/generated/libpysal.cg.voronoi_frames.html#libpysal.cg.voronoi_frames) function from the `libpysal.cg` module of libpysal package."
   ]
  },
  {
   "cell_type": "markdown",
   "metadata": {},
   "source": [
    "## Extract unique points\n",
    "\n",
    "If you want to check the individual vertices, for example to understand the input for triangulation, you can now use the `extract_unique_points()` method."
   ]
  },
  {
   "cell_type": "code",
   "execution_count": null,
   "metadata": {},
   "outputs": [],
   "source": [
    "points = chicago.extract_unique_points()\n",
    "points"
   ]
  },
  {
   "cell_type": "code",
   "execution_count": null,
   "metadata": {},
   "outputs": [],
   "source": [
    "points.explore(tiles=\"CartoDB Positron\", prefer_canvas=True)"
   ]
  },
  {
   "cell_type": "markdown",
   "metadata": {},
   "source": [
    "The map above gives a nice explanation of that Delaunay triangulation you did above."
   ]
  },
  {
   "cell_type": "markdown",
   "metadata": {},
   "source": [
    "## Polygonize and build_area\n",
    "\n",
    "The `polygonize()` method is a new method that allows you to convert an array of LineStrings into a Polygons. This is useful when you have a LineStrings that represents closed shapes. Like the Delaunay edges."
   ]
  },
  {
   "cell_type": "code",
   "execution_count": null,
   "metadata": {},
   "outputs": [],
   "source": [
    "delaunay_edges.head()"
   ]
  },
  {
   "cell_type": "markdown",
   "metadata": {},
   "source": [
    "The method considers all geometries together when doing the polygonization."
   ]
  },
  {
   "cell_type": "code",
   "execution_count": null,
   "metadata": {},
   "outputs": [],
   "source": [
    "polygons = delaunay_edges.polygonize()\n",
    "polygons.head()"
   ]
  },
  {
   "cell_type": "code",
   "execution_count": null,
   "metadata": {},
   "outputs": [],
   "source": [
    "polygons.explore(tiles=\"CartoDB Positron\")"
   ]
  },
  {
   "cell_type": "markdown",
   "metadata": {},
   "source": [
    "Similar method is `build_area()`, that uses the LineStrings to to build a single area, while treating enclosed lines as holes."
   ]
  },
  {
   "cell_type": "code",
   "execution_count": null,
   "metadata": {},
   "outputs": [],
   "source": [
    "delaunay_edges.build_area().explore(tiles=\"CartoDB Positron\")"
   ]
  },
  {
   "cell_type": "markdown",
   "metadata": {},
   "source": [
    "Let's add some artifical holes to illustrate the situation."
   ]
  },
  {
   "cell_type": "code",
   "execution_count": null,
   "metadata": {},
   "outputs": [],
   "source": [
    "linework = pandas.concat(\n",
    "    [voronoi_edges, groceries.buffer(1000).boundary], ignore_index=True\n",
    ")"
   ]
  },
  {
   "cell_type": "code",
   "execution_count": null,
   "metadata": {},
   "outputs": [],
   "source": [
    "linework.explore(tiles=\"CartoDB Positron\")"
   ]
  },
  {
   "cell_type": "markdown",
   "metadata": {},
   "source": [
    "Comparing the results of `polygonize()` and `build_area()` shows the difference in the output."
   ]
  },
  {
   "cell_type": "code",
   "execution_count": null,
   "metadata": {},
   "outputs": [],
   "source": [
    "linework.build_area().explore(tiles=\"CartoDB Positron\")"
   ]
  },
  {
   "cell_type": "code",
   "execution_count": null,
   "metadata": {},
   "outputs": [],
   "source": [
    "linework.polygonize().explore(tiles=\"CartoDB Positron\")"
   ]
  },
  {
   "cell_type": "markdown",
   "metadata": {},
   "source": [
    "## Segmentize\n",
    "\n",
    "Sometimes, it may be useful to include additional points along the edges of geometries. This is useful when you want to densify the geometries for further processing. GeoPandas 1.0 has a new method `segmentize()` that allows you to do just that.\n",
    "\n",
    "Check the vertices of the Delaunay triangulation done above."
   ]
  },
  {
   "cell_type": "code",
   "execution_count": null,
   "metadata": {},
   "outputs": [],
   "source": [
    "delaunay.extract_unique_points().explore(tiles=\"CartoDB Positron\")"
   ]
  },
  {
   "cell_type": "markdown",
   "metadata": {},
   "source": [
    "Using only the vertices, we have no clue about the original shape. Let's segmentize the edges to get a better understanding."
   ]
  },
  {
   "cell_type": "code",
   "execution_count": null,
   "metadata": {},
   "outputs": [],
   "source": [
    "denser = delaunay.segmentize(max_segment_length=1000)\n",
    "denser.head()"
   ]
  },
  {
   "cell_type": "code",
   "execution_count": null,
   "metadata": {},
   "outputs": [],
   "source": [
    "dense_points = denser.extract_unique_points()\n",
    "dense_points.explore(tiles=\"CartoDB Positron\")"
   ]
  },
  {
   "cell_type": "markdown",
   "metadata": {},
   "source": [
    "Much better! Note that the distance between the points is no higher than the specified distance but not precisely the same. "
   ]
  },
  {
   "cell_type": "markdown",
   "metadata": {},
   "source": [
    "## Hilbert distance\n",
    "\n",
    "For a long time, sorting based on geometries simply raised an error. This has recently changed with the introduction of the `hilbert_distance()` method. This method allows you to sort geometries based on their Hilbert distance, ensuring that there is a canonical way of sorting ensuring that the two geometries close to each other in the GeoDataFrame are also close in space.\n",
    "\n",
    "Let's pick the points from the Delaunay triangulation and check how they are sorted."
   ]
  },
  {
   "cell_type": "code",
   "execution_count": null,
   "metadata": {},
   "outputs": [],
   "source": [
    "dense_points_df = dense_points.to_frame(\"geometry\").explode()\n",
    "dense_points_df"
   ]
  },
  {
   "cell_type": "markdown",
   "metadata": {},
   "source": [
    "Generate a label for each quantile based on the order of rows."
   ]
  },
  {
   "cell_type": "code",
   "execution_count": null,
   "metadata": {},
   "outputs": [],
   "source": [
    "quantile_label = numpy.repeat(numpy.arange(100), len(dense_points_df) // 100 + 1)[:len(dense_points_df)]"
   ]
  },
  {
   "cell_type": "code",
   "execution_count": null,
   "metadata": {},
   "outputs": [],
   "source": [
    "dense_points_df.explore(quantile_label, cmap=\"viridis\", tiles=\"CartoDB Positron\")"
   ]
  },
  {
   "cell_type": "markdown",
   "metadata": {},
   "source": [
    "There seems to be some spatial order in the data but not necesarily very useful. Check how the extent of each quantile looks like."
   ]
  },
  {
   "cell_type": "code",
   "execution_count": null,
   "metadata": {},
   "outputs": [],
   "source": [
    "dense_points_df.dissolve(quantile_label).envelope.explore(tiles=\"CartoDB Positron\")"
   ]
  },
  {
   "cell_type": "markdown",
   "metadata": {},
   "source": [
    "Now let's do the same, but sort the GeoDataFrame based on geometry first."
   ]
  },
  {
   "cell_type": "code",
   "execution_count": null,
   "metadata": {},
   "outputs": [],
   "source": [
    "spatially_sorted = dense_points_df.sort_values(\"geometry\")"
   ]
  },
  {
   "cell_type": "markdown",
   "metadata": {},
   "source": [
    "The quantiles show the underlying Hilbert curve."
   ]
  },
  {
   "cell_type": "code",
   "execution_count": null,
   "metadata": {},
   "outputs": [],
   "source": [
    "spatially_sorted.explore(quantile_label, cmap=\"viridis\", tiles=\"CartoDB Positron\")"
   ]
  },
  {
   "cell_type": "markdown",
   "metadata": {},
   "source": [
    "And the envelopes are much less overlapping."
   ]
  },
  {
   "cell_type": "code",
   "execution_count": null,
   "metadata": {},
   "outputs": [],
   "source": [
    "spatially_sorted.dissolve(quantile_label).envelope.explore(tiles=\"CartoDB Positron\")"
   ]
  },
  {
   "cell_type": "markdown",
   "metadata": {},
   "source": [
    "All of this is based on the `hilbert_distance()` method, which is called internally in the `sort_values()` method."
   ]
  },
  {
   "cell_type": "code",
   "execution_count": null,
   "metadata": {},
   "outputs": [],
   "source": [
    "spatially_sorted.hilbert_distance()"
   ]
  },
  {
   "cell_type": "markdown",
   "metadata": {},
   "source": [
    "## Reading from sorted Parquet files\n",
    "\n",
    "One application of spatially sorting is in reading subsets of large GeoParquet files. When only needing a part of the data, and the data is spatially sorted, we can make use of the chunked nature of Parquet files to automatically skip parts of the file.\n",
    "\n",
    "By default, the geometries are serialized as WKB in the Parquet file. In that case, we can write an additional column with the bounding box of each feature.\n",
    "\n",
    "Let's look at this Polygon dataset covering the US, and make it a bit bigger to see the difference:"
   ]
  },
  {
   "cell_type": "code",
   "execution_count": null,
   "metadata": {},
   "outputs": [],
   "source": [
    "counties = geopandas.read_file(get_path(\"geoda.us_sdoh\"))\n",
    "counties = pandas.concat([counties]*10, ignore_index=True)"
   ]
  },
  {
   "cell_type": "code",
   "execution_count": null,
   "metadata": {},
   "outputs": [],
   "source": [
    "len(counties)"
   ]
  },
  {
   "cell_type": "markdown",
   "metadata": {},
   "source": [
    "Writing to Parquet and reading it back as a baseline:"
   ]
  },
  {
   "cell_type": "code",
   "execution_count": null,
   "metadata": {},
   "outputs": [],
   "source": [
    "counties.to_parquet(\"counties.parquet\", row_group_size=10000)"
   ]
  },
  {
   "cell_type": "code",
   "execution_count": null,
   "metadata": {},
   "outputs": [],
   "source": [
    "%time _ = geopandas.read_parquet(\"counties.parquet\")"
   ]
  },
  {
   "cell_type": "markdown",
   "metadata": {},
   "source": [
    "Now we can write it with a bbox column using the new `write_covering_bbox=True` option, allowing us to read a subset of the data by specifying a bounding box:"
   ]
  },
  {
   "cell_type": "code",
   "execution_count": null,
   "metadata": {},
   "outputs": [],
   "source": [
    "counties.to_parquet(\"counties_bbox.parquet\", write_covering_bbox=True, row_group_size=10000)"
   ]
  },
  {
   "cell_type": "code",
   "execution_count": null,
   "metadata": {},
   "outputs": [],
   "source": [
    "%time len(geopandas.read_parquet(\"counties_bbox.parquet\"))"
   ]
  },
  {
   "cell_type": "code",
   "execution_count": null,
   "metadata": {},
   "outputs": [],
   "source": [
    "bbox = list(counties[counties.county == \"Bronx\"].total_bounds)"
   ]
  },
  {
   "cell_type": "code",
   "execution_count": null,
   "metadata": {},
   "outputs": [],
   "source": [
    "%time len(geopandas.read_parquet(\"counties_bbox.parquet\", bbox=bbox))"
   ]
  },
  {
   "cell_type": "markdown",
   "metadata": {},
   "source": [
    "Specifying a bounding box already speeds up the reading considerably. In this case it will generally not avoid loading all data from the Parquet file, but it will still avoid parsing all WKB values to geometries.\n",
    "\n",
    "Let's now first sort the geometries before writing to Parquet, and then read the same subset again:"
   ]
  },
  {
   "cell_type": "code",
   "execution_count": null,
   "metadata": {},
   "outputs": [],
   "source": [
    "counties_spatially_sorted = counties.sort_values(\"geometry\").reset_index(drop=True)"
   ]
  },
  {
   "cell_type": "code",
   "execution_count": null,
   "metadata": {},
   "outputs": [],
   "source": [
    "counties_spatially_sorted.to_parquet(\"counties_bbox_sorted.parquet\", write_covering_bbox=True, row_group_size=10000)"
   ]
  },
  {
   "cell_type": "code",
   "execution_count": null,
   "metadata": {},
   "outputs": [],
   "source": [
    "%time len(geopandas.read_parquet(\"counties_bbox_sorted.parquet\", bbox=bbox))"
   ]
  },
  {
   "cell_type": "code",
   "execution_count": null,
   "metadata": {},
   "outputs": [],
   "source": [
    "chicago_sorted = chicago.sort_values(\"geometry\")\n",
    "chicago_sorted[\"partition\"] = numpy.repeat(numpy.arange(11), 7)\n",
    "chicago_partitions = chicago_sorted.dissolve(\"partition\")"
   ]
  },
  {
   "cell_type": "markdown",
   "metadata": {},
   "source": [
    "The other can represent boundaries of community areas wihtin 2000 feet of the groceries."
   ]
  },
  {
   "cell_type": "code",
   "execution_count": null,
   "metadata": {},
   "outputs": [],
   "source": [
    "boundaries_near_shops = chicago_sorted.set_geometry(chicago_sorted.boundary).clip(groceries.buffer(2000).to_crs(chicago.crs))"
   ]
  },
  {
   "cell_type": "markdown",
   "metadata": {},
   "source": [
    "Check both visually."
   ]
  },
  {
   "cell_type": "code",
   "execution_count": null,
   "metadata": {},
   "outputs": [],
   "source": [
    "m = chicago_partitions.explore(tiles=\"CartoDB Positron\")\n",
    "boundaries_near_shops.explore(m=m, color=\"red\")"
   ]
  },
  {
   "cell_type": "markdown",
   "metadata": {},
   "source": [
    "Now find the shared paths between the two sets of geometries. We need to properly align matching geometries as the method works on a row-wise basis."
   ]
  },
  {
   "cell_type": "code",
   "execution_count": null,
   "metadata": {},
   "outputs": [],
   "source": [
    "shared = chicago_partitions.boundary.shared_paths(boundaries_near_shops.set_index(\"partition\"), align=True)\n",
    "shared"
   ]
  },
  {
   "cell_type": "markdown",
   "metadata": {},
   "source": [
    "The output is farily specific. The method returns a GeometryCollection with two components. The first one contains paths that have the same direction in both while the second one contains paths that have the opposite direction."
   ]
  },
  {
   "cell_type": "markdown",
   "metadata": {},
   "source": [
    "## `dwithin`, aka \"distance within\", joins and predicates\n",
    "\n",
    "GeoPandas 1.0 brings a new method `dwithin()` that allows you to do spatial joins based on distance. This is useful when you want to join geometries that are within a certain distance from each other but want to avoid buffering,\n",
    "\n",
    "Let's load the data on a subset of abandoned car locations in Chicago."
   ]
  },
  {
   "cell_type": "code",
   "execution_count": null,
   "metadata": {},
   "outputs": [],
   "source": [
    "cars = geopandas.read_file(\"data/cars.gpkg\")\n",
    "cars.head()"
   ]
  },
  {
   "cell_type": "markdown",
   "metadata": {},
   "source": [
    "Ensure that the data is in the same CRS. Note that this shall be projected as youa re specifying the distance in units of the CRS."
   ]
  },
  {
   "cell_type": "code",
   "execution_count": null,
   "metadata": {},
   "outputs": [],
   "source": [
    "cars = cars.to_crs(groceries.crs)"
   ]
  },
  {
   "cell_type": "markdown",
   "metadata": {},
   "source": [
    "Check the data."
   ]
  },
  {
   "cell_type": "code",
   "execution_count": null,
   "metadata": {},
   "outputs": [],
   "source": [
    "cars.explore(tiles=\"CartoDB Positron\")"
   ]
  },
  {
   "cell_type": "markdown",
   "metadata": {},
   "source": [
    "The distance join is done by using the `sjoin()` method with `predicate=\"dwithin\"` and a set `distance`."
   ]
  },
  {
   "cell_type": "code",
   "execution_count": null,
   "metadata": {},
   "outputs": [],
   "source": [
    "cars_near_groceries = cars.sjoin(groceries, predicate=\"dwithin\", distance=1000)\n",
    "cars_near_groceries"
   ]
  },
  {
   "cell_type": "markdown",
   "metadata": {},
   "source": [
    "The result is a subset of abandoned cars that are within 1000 feet of a groceries, with the grocery information attached."
   ]
  },
  {
   "cell_type": "code",
   "execution_count": null,
   "metadata": {},
   "outputs": [],
   "source": [
    "cars_near_groceries.explore(\"Chain\", tiles=\"CartoDB Positron\")"
   ]
  },
  {
   "cell_type": "markdown",
   "metadata": {},
   "source": [
    "If you are not interested in the join, you can also use the predicate alongside the distance keyword in the `sindex.query()` method or use the `dwithin()` method."
   ]
  },
  {
   "cell_type": "markdown",
   "metadata": {},
   "source": [
    "## Force_2D and Force_3D\n",
    "\n",
    "GeoPandas 1.0 brings two new methods to force geometries into 2D or 3D. This is useful when you want to ensure that all geometries have the same dimensionality and the input data is not consistent."
   ]
  },
  {
   "cell_type": "code",
   "execution_count": null,
   "metadata": {},
   "outputs": [],
   "source": [
    "chicago.head()"
   ]
  },
  {
   "cell_type": "markdown",
   "metadata": {},
   "source": [
    "Check if there are some geometries that are not 2D."
   ]
  },
  {
   "cell_type": "code",
   "execution_count": null,
   "metadata": {},
   "outputs": [],
   "source": [
    "chicago.has_z.any()"
   ]
  },
  {
   "cell_type": "markdown",
   "metadata": {},
   "source": [
    "Force all geometries to be 3D. This adds, by default, 0 as the z-coordinate."
   ]
  },
  {
   "cell_type": "code",
   "execution_count": null,
   "metadata": {},
   "outputs": [],
   "source": [
    "with_z = chicago.force_3d()\n",
    "with_z.head()"
   ]
  },
  {
   "cell_type": "markdown",
   "metadata": {},
   "source": [
    "And indeed, all geometries are now 3D."
   ]
  },
  {
   "cell_type": "code",
   "execution_count": null,
   "metadata": {},
   "outputs": [],
   "source": [
    "with_z.has_z.all()"
   ]
  },
  {
   "cell_type": "markdown",
   "metadata": {},
   "source": [
    "But you can also specify the z-coordinate for each geometry individually."
   ]
  },
  {
   "cell_type": "code",
   "execution_count": null,
   "metadata": {},
   "outputs": [],
   "source": [
    "with_z_range = chicago.force_3d(z=range(len(chicago)))\n",
    "with_z_range.head()"
   ]
  },
  {
   "cell_type": "markdown",
   "metadata": {},
   "source": [
    "To do the opposite, force all geometries to be 2D, you can use the `force_2d()` method. This strips all z-coordinates."
   ]
  },
  {
   "cell_type": "code",
   "execution_count": null,
   "metadata": {},
   "outputs": [],
   "source": [
    "without_z = with_z_range.force_2d()\n",
    "without_z.head()"
   ]
  },
  {
   "cell_type": "markdown",
   "metadata": {},
   "source": [
    "## Hausdorff and Frechet distance\n",
    "\n",
    "GeoPandas 1.0 brings two new methods to calculate distances between geometries. The Hausdorff distance and the Frechet distance. The standard `distance` method measures the shortest distance between two geometries. The `hausdorff_distance()` measures the longest distance between two geometries. The `frechet_distance()` measures the shortest distance between two points that traverse both geometries.\n",
    "\n",
    "Let's illustrate it on a data representing large rivers in Europe."
   ]
  },
  {
   "cell_type": "code",
   "execution_count": null,
   "metadata": {},
   "outputs": [],
   "source": [
    "rivers = geopandas.read_file(get_path(\"eea large rivers\")).set_index(\"NAME\")\n",
    "rivers"
   ]
  },
  {
   "cell_type": "code",
   "execution_count": null,
   "metadata": {},
   "outputs": [],
   "source": [
    "rivers.explore(tiles=\"CartoDB Positron\")"
   ]
  },
  {
   "cell_type": "markdown",
   "metadata": {},
   "source": [
    "Frechet distance is often used to measure the similarity between two curves. Like between the original geometry and its simplified version."
   ]
  },
  {
   "cell_type": "code",
   "execution_count": null,
   "metadata": {},
   "outputs": [],
   "source": [
    "simplified_rivers = rivers.simplify(10_000)"
   ]
  },
  {
   "cell_type": "markdown",
   "metadata": {},
   "source": [
    "Compare both visually."
   ]
  },
  {
   "cell_type": "code",
   "execution_count": null,
   "metadata": {},
   "outputs": [],
   "source": [
    "m = simplified_rivers.explore(tiles=\"CartoDB Positron\")\n",
    "rivers.explore(m=m, color='red')"
   ]
  },
  {
   "cell_type": "markdown",
   "metadata": {},
   "source": [
    "And measure the distance."
   ]
  },
  {
   "cell_type": "code",
   "execution_count": null,
   "metadata": {},
   "outputs": [],
   "source": [
    "rivers.frechet_distance(simplified_rivers)"
   ]
  },
  {
   "cell_type": "markdown",
   "metadata": {},
   "source": [
    "If you do that iteratively for different simplification levels, you will see how the distance changes."
   ]
  },
  {
   "cell_type": "code",
   "execution_count": null,
   "metadata": {},
   "outputs": [],
   "source": [
    "frechet = {}\n",
    "for i in [1000, 2000, 5000, 10000]:\n",
    "    simplified_rivers = rivers.simplify(i)\n",
    "    frechet[i] = rivers.frechet_distance(simplified_rivers)\n",
    "\n",
    "pandas.DataFrame(frechet).T.plot(legend=False)"
   ]
  },
  {
   "cell_type": "markdown",
   "metadata": {},
   "source": [
    "Hausdorff distance is a bit different as it measures the longest distance between two geometries."
   ]
  },
  {
   "cell_type": "code",
   "execution_count": null,
   "metadata": {},
   "outputs": [],
   "source": [
    "rivers.hausdorff_distance(simplified_rivers)"
   ]
  },
  {
   "cell_type": "markdown",
   "metadata": {},
   "source": [
    "You can see that the result is bounded by the tolerance of the simplification due to the underlying Douglas-Peucker algorithm."
   ]
  },
  {
   "cell_type": "code",
   "execution_count": null,
   "metadata": {},
   "outputs": [],
   "source": [
    "hausdorff = {}\n",
    "for i in [1000, 2000, 5000, 10000]:\n",
    "    simplified_rivers = rivers.simplify(i)\n",
    "    hausdorff[i] = rivers.hausdorff_distance(simplified_rivers)\n",
    "\n",
    "pandas.DataFrame(hausdorff).T.plot(legend=False)"
   ]
  }
 ],
 "metadata": {
  "kernelspec": {
   "display_name": "Python 3 (ipykernel)",
   "language": "python",
   "name": "python3"
  },
  "language_info": {
   "codemirror_mode": {
    "name": "ipython",
    "version": 3
   },
   "file_extension": ".py",
   "mimetype": "text/x-python",
   "name": "python",
   "nbconvert_exporter": "python",
   "pygments_lexer": "ipython3",
   "version": "3.12.3"
  },
  "vscode": {
   "interpreter": {
    "hash": "029493424c262204dc2a0b83d1ac63e4e0f746dccf0eac8b34673e62335cac43"
   }
  }
 },
 "nbformat": 4,
 "nbformat_minor": 4
}
