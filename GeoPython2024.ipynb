{
 "cells": [
  {
   "attachments": {},
   "cell_type": "markdown",
   "metadata": {},
   "source": [
    "# Getting the most out of GeoPandas 1.0\n",
    "\n",
    "After 10 years since the first release, GeoPandas reached version 1.0. This workshop will showcase how to get the most out of the recent enhancements and develop a code ready for 2024 and beyond.\n",
    "\n",
    "**Martin Fleischmann, Joris van den Bossche**\n",
    "\n",
    "27/05/2024, Basel\n",
    "\n",
    "## Setup\n",
    "\n",
    "Follow the ReadMe to set up the environment correctly. You should have these packages installed:\n",
    "\n",
    "```\n",
    "- geopandas 1.0\n",
    "- pyarrow\n",
    "- geodatasets\n",
    "```\n",
    "\n",
    "## What is GeoPandas?\n",
    "\n",
    "**Easy, fast and scalable geospatial analysis in Python**\n",
    "\n",
    "From the docs:\n",
    "\n",
    "> The goal of GeoPandas is to make working with geospatial data in python easier. It combines the capabilities of pandas and shapely, providing geospatial operations in pandas and a high-level interface to multiple geometries to shapely. GeoPandas enables you to easily do operations in python that would otherwise require a spatial database such as PostGIS."
   ]
  },
  {
   "cell_type": "markdown",
   "metadata": {},
   "source": [
    "## Outline\n",
    "\n",
    "Order to be determined\n",
    "\n",
    "- [x] dot density mapping (sample)\n",
    "- [x] union_all\n",
    "- [x] voronoi and delaunay\n",
    "- [x] polygonize and build area\n",
    "- [x] force_2d and force_3d\n",
    "- [x] dwithin joins\n",
    "- [ ] sjoin with attribute\n",
    "- [x] extract_unique_points\n",
    "- [x] frechet_distance and hausdorff_distance\n",
    "- [x] segmentize\n",
    "- [x] hilbert_distance and sort_values\n",
    "- [ ] save to parquet with bbox and bbox filtering\n",
    "- [x] shared_paths and get_geometry"
   ]
  },
  {
   "cell_type": "code",
   "execution_count": null,
   "metadata": {},
   "outputs": [],
   "source": [
    "import geopandas\n",
    "import pandas\n",
    "import numpy\n",
    "from matplotlib.colors import ListedColormap\n",
    "\n",
    "from geodatasets import get_path"
   ]
  },
  {
   "cell_type": "markdown",
   "metadata": {},
   "source": [
    "## Dot density mapping using `sample_points()`"
   ]
  },
  {
   "cell_type": "code",
   "execution_count": null,
   "metadata": {},
   "outputs": [],
   "source": [
    "chicago = geopandas.read_file(get_path(\"geoda chicago_health\"), columns=[\"Hisp14\", \"Blk14\", \"AS14\", \"Wht14\", \"TRACTCnt\"])\n",
    "chicago.head()"
   ]
  },
  {
   "cell_type": "markdown",
   "metadata": {},
   "source": [
    "Single layer"
   ]
  },
  {
   "cell_type": "code",
   "execution_count": null,
   "metadata": {},
   "outputs": [],
   "source": [
    "white = chicago.sample_points(chicago.Wht14 // 100, rng=42)\n",
    "white.head()"
   ]
  },
  {
   "cell_type": "code",
   "execution_count": null,
   "metadata": {},
   "outputs": [],
   "source": [
    "ax = white.plot(color=\"k\", markersize=0.01, figsize=(12, 12))\n",
    "chicago.boundary.plot(ax=ax, color=\"k\", linewidth=0.2)\n",
    "ax.set_axis_off()"
   ]
  },
  {
   "cell_type": "markdown",
   "metadata": {},
   "source": [
    "Multiple layers"
   ]
  },
  {
   "cell_type": "code",
   "execution_count": null,
   "metadata": {},
   "outputs": [],
   "source": [
    "hispanic = chicago.sample_points(chicago.Hisp14 // 100, rng=42)\n",
    "black = chicago.sample_points(chicago.Blk14 // 100, rng=42)\n",
    "asian = chicago.sample_points(chicago.AS14 // 100, rng=42)"
   ]
  },
  {
   "cell_type": "markdown",
   "metadata": {},
   "source": [
    "The manual way"
   ]
  },
  {
   "cell_type": "code",
   "execution_count": null,
   "metadata": {},
   "outputs": [],
   "source": [
    "ax = white.plot(color=\"#F2CF63\", markersize=0.01, figsize=(12, 12))\n",
    "hispanic.plot(color=\"#ADD9C9\", markersize=0.01, ax=ax)\n",
    "black.plot(color=\"#D96459\", markersize=0.01, ax=ax)\n",
    "asian.plot(color=\"#3B2F40\", markersize=0.01, ax=ax)\n",
    "ax.set_axis_off()"
   ]
  },
  {
   "cell_type": "markdown",
   "metadata": {},
   "source": []
  },
  {
   "cell_type": "markdown",
   "metadata": {},
   "source": [
    "As one GeoDataFrame"
   ]
  },
  {
   "cell_type": "code",
   "execution_count": null,
   "metadata": {},
   "outputs": [],
   "source": [
    "dot_density = geopandas.GeoDataFrame(\n",
    "    {\"population\": [\"white\", \"hispanic\", \"black\", \"asian\"]},\n",
    "    geometry=[\n",
    "        white.union_all(),\n",
    "        hispanic.union_all(),\n",
    "        black.union_all(),\n",
    "        asian.union_all(),\n",
    "    ],\n",
    "    crs=chicago.crs,\n",
    ")\n",
    "dot_density"
   ]
  },
  {
   "cell_type": "code",
   "execution_count": null,
   "metadata": {},
   "outputs": [],
   "source": [
    "cmap = ListedColormap([\"#3B2F40\", \"#D96459\", \"#ADD9C9\", \"#F2CF63\"])\n",
    "ax = dot_density.plot(\n",
    "    column=\"population\",\n",
    "    cmap=cmap,\n",
    "    legend=True,\n",
    "    markersize=0.01,\n",
    "    figsize=(12, 12),\n",
    "    legend_kwds=dict(loc=\"upper right\", bbox_to_anchor=(1, 0.95), frameon=False),\n",
    ")\n",
    "chicago.boundary.plot(ax=ax, color=\"k\", linewidth=0.1)\n",
    "ax.set_axis_off()"
   ]
  },
  {
   "cell_type": "code",
   "execution_count": null,
   "metadata": {},
   "outputs": [],
   "source": [
    "m = chicago.boundary.explore(\n",
    "    tiles=\"Carto DB Positron\",\n",
    "    prefer_canvas=True,\n",
    "    color=\"black\",\n",
    "    )\n",
    "dot_density.explore(\n",
    "    column=\"population\",\n",
    "    cmap=cmap,\n",
    "    legend=True,\n",
    "    marker_kwds=dict(radius=1),\n",
    "    m=m\n",
    ")"
   ]
  },
  {
   "cell_type": "markdown",
   "metadata": {},
   "source": [
    "## Union_all and coverage union"
   ]
  },
  {
   "cell_type": "code",
   "execution_count": null,
   "metadata": {},
   "outputs": [],
   "source": [
    "nyc = geopandas.read_file(get_path(\"geoda nyc education\"), columns=[\"BoroCode\"])\n",
    "nyc"
   ]
  },
  {
   "cell_type": "code",
   "execution_count": null,
   "metadata": {},
   "outputs": [],
   "source": [
    "nyc.explore(\"BoroCode\", tiles=\"Carto DB Positron\")"
   ]
  },
  {
   "cell_type": "markdown",
   "metadata": {},
   "source": [
    "Doing union of all geometries"
   ]
  },
  {
   "cell_type": "code",
   "execution_count": null,
   "metadata": {},
   "outputs": [],
   "source": [
    "%timeit nyc.union_all()\n",
    "%timeit nyc.union_all(method=\"coverage\")"
   ]
  },
  {
   "cell_type": "markdown",
   "metadata": {},
   "source": [
    "Dissolving geomerties to boroughs."
   ]
  },
  {
   "cell_type": "code",
   "execution_count": null,
   "metadata": {},
   "outputs": [],
   "source": [
    "boroughs = nyc.dissolve(\"BoroCode\")\n",
    "boroughs"
   ]
  },
  {
   "cell_type": "code",
   "execution_count": null,
   "metadata": {},
   "outputs": [],
   "source": [
    "boroughs.explore(tiles=\"CartoDB Positron\")"
   ]
  },
  {
   "cell_type": "code",
   "execution_count": null,
   "metadata": {},
   "outputs": [],
   "source": [
    "%timeit nyc.dissolve(\"BoroCode\")\n",
    "%timeit nyc.dissolve(\"BoroCode\", method=\"coverage\")"
   ]
  },
  {
   "cell_type": "markdown",
   "metadata": {},
   "source": [
    "## Voronoi and Delaunay"
   ]
  },
  {
   "cell_type": "code",
   "execution_count": null,
   "metadata": {},
   "outputs": [],
   "source": [
    "groceries = geopandas.read_file(get_path(\"geoda groceries\"))\n",
    "groceries.head()"
   ]
  },
  {
   "cell_type": "code",
   "execution_count": null,
   "metadata": {},
   "outputs": [],
   "source": [
    "groceries.explore(tiles=\"CartoDB Positron\")"
   ]
  },
  {
   "cell_type": "code",
   "execution_count": null,
   "metadata": {},
   "outputs": [],
   "source": [
    "voronoi = groceries.voronoi_polygons()\n",
    "voronoi"
   ]
  },
  {
   "cell_type": "code",
   "execution_count": null,
   "metadata": {},
   "outputs": [],
   "source": [
    "m = voronoi.explore(tiles=\"CartoDB Positron\")\n",
    "groceries.explore(m=m, color=\"red\")"
   ]
  },
  {
   "cell_type": "code",
   "execution_count": null,
   "metadata": {},
   "outputs": [],
   "source": [
    "voronoi_edges = groceries.voronoi_polygons(only_edges=True)\n",
    "voronoi_edges"
   ]
  },
  {
   "cell_type": "code",
   "execution_count": null,
   "metadata": {},
   "outputs": [],
   "source": [
    "m = voronoi_edges.explore(tiles=\"CartoDB Positron\")\n",
    "groceries.explore(m=m, color=\"red\")"
   ]
  },
  {
   "cell_type": "code",
   "execution_count": null,
   "metadata": {},
   "outputs": [],
   "source": [
    "delaunay = groceries.delaunay_triangles()\n",
    "delaunay"
   ]
  },
  {
   "cell_type": "code",
   "execution_count": null,
   "metadata": {},
   "outputs": [],
   "source": [
    "m = delaunay.explore(tiles=\"CartoDB Positron\")\n",
    "groceries.explore(m=m, color=\"red\")"
   ]
  },
  {
   "cell_type": "code",
   "execution_count": null,
   "metadata": {},
   "outputs": [],
   "source": [
    "delaunay_edges = groceries.delaunay_triangles(only_edges=True)\n",
    "delaunay_edges"
   ]
  },
  {
   "cell_type": "code",
   "execution_count": null,
   "metadata": {},
   "outputs": [],
   "source": [
    "m = delaunay_edges.explore(tiles=\"CartoDB Positron\")\n",
    "groceries.explore(m=m, color=\"red\")"
   ]
  },
  {
   "cell_type": "code",
   "execution_count": null,
   "metadata": {},
   "outputs": [],
   "source": [
    "chicago.head()"
   ]
  },
  {
   "cell_type": "code",
   "execution_count": null,
   "metadata": {},
   "outputs": [],
   "source": [
    "chicago_delaunay = chicago.delaunay_triangles(only_edges=True)\n",
    "\n",
    "m = chicago_delaunay.explore(tiles=\"CartoDB Positron\", prefer_canvas=True)\n",
    "chicago.boundary.explore(m=m, color=\"red\")\n"
   ]
  },
  {
   "cell_type": "markdown",
   "metadata": {},
   "source": [
    "## Extract unique points"
   ]
  },
  {
   "cell_type": "code",
   "execution_count": null,
   "metadata": {},
   "outputs": [],
   "source": [
    "points = chicago.extract_unique_points()\n",
    "points"
   ]
  },
  {
   "cell_type": "code",
   "execution_count": null,
   "metadata": {},
   "outputs": [],
   "source": [
    "points.explore(tiles=\"CartoDB Positron\", prefer_canvas=True)"
   ]
  },
  {
   "cell_type": "markdown",
   "metadata": {},
   "source": [
    "## Polygonize and build_area"
   ]
  },
  {
   "cell_type": "code",
   "execution_count": null,
   "metadata": {},
   "outputs": [],
   "source": [
    "delaunay_edges.head()"
   ]
  },
  {
   "cell_type": "code",
   "execution_count": null,
   "metadata": {},
   "outputs": [],
   "source": [
    "polygons = delaunay_edges.polygonize()\n",
    "polygons.head()"
   ]
  },
  {
   "cell_type": "code",
   "execution_count": null,
   "metadata": {},
   "outputs": [],
   "source": [
    "polygons.explore(tiles=\"CartoDB Positron\")"
   ]
  },
  {
   "cell_type": "code",
   "execution_count": null,
   "metadata": {},
   "outputs": [],
   "source": [
    "delaunay_edges.build_area().explore(tiles=\"CartoDB Positron\")"
   ]
  },
  {
   "cell_type": "code",
   "execution_count": null,
   "metadata": {},
   "outputs": [],
   "source": [
    "linework = pandas.concat(\n",
    "    [voronoi_edges, groceries.buffer(1000).boundary], ignore_index=True\n",
    ")"
   ]
  },
  {
   "cell_type": "code",
   "execution_count": null,
   "metadata": {},
   "outputs": [],
   "source": [
    "linework.explore(tiles=\"CartoDB Positron\")"
   ]
  },
  {
   "cell_type": "code",
   "execution_count": null,
   "metadata": {},
   "outputs": [],
   "source": [
    "linework.build_area().explore(tiles=\"CartoDB Positron\")"
   ]
  },
  {
   "cell_type": "code",
   "execution_count": null,
   "metadata": {},
   "outputs": [],
   "source": [
    "linework.polygonize().explore(tiles=\"CartoDB Positron\")"
   ]
  },
  {
   "cell_type": "markdown",
   "metadata": {},
   "source": [
    "## Force_2D and Force_3D"
   ]
  },
  {
   "cell_type": "code",
   "execution_count": null,
   "metadata": {},
   "outputs": [],
   "source": [
    "chicago.head()"
   ]
  },
  {
   "cell_type": "code",
   "execution_count": null,
   "metadata": {},
   "outputs": [],
   "source": [
    "chicago.has_z.any()"
   ]
  },
  {
   "cell_type": "code",
   "execution_count": null,
   "metadata": {},
   "outputs": [],
   "source": [
    "with_z = chicago.force_3d()\n",
    "with_z.head()"
   ]
  },
  {
   "cell_type": "code",
   "execution_count": null,
   "metadata": {},
   "outputs": [],
   "source": [
    "with_z.has_z.all()"
   ]
  },
  {
   "cell_type": "code",
   "execution_count": null,
   "metadata": {},
   "outputs": [],
   "source": [
    "with_z_range = chicago.force_3d(z=range(len(chicago)))\n",
    "with_z_range.head()"
   ]
  },
  {
   "cell_type": "code",
   "execution_count": null,
   "metadata": {},
   "outputs": [],
   "source": [
    "without_z = with_z_range.force_2d()\n",
    "without_z.head()"
   ]
  },
  {
   "cell_type": "markdown",
   "metadata": {},
   "source": [
    "## Dwithin"
   ]
  },
  {
   "cell_type": "code",
   "execution_count": null,
   "metadata": {},
   "outputs": [],
   "source": [
    "cars = geopandas.read_file(\"data/cars.gpkg\")\n",
    "cars.head()"
   ]
  },
  {
   "cell_type": "code",
   "execution_count": null,
   "metadata": {},
   "outputs": [],
   "source": [
    "cars = cars.to_crs(groceries.crs)"
   ]
  },
  {
   "cell_type": "code",
   "execution_count": null,
   "metadata": {},
   "outputs": [],
   "source": [
    "cars.explore(tiles=\"CartoDB Positron\")"
   ]
  },
  {
   "cell_type": "code",
   "execution_count": null,
   "metadata": {},
   "outputs": [],
   "source": [
    "cars_near_groceries = cars.sjoin(groceries, predicate=\"dwithin\", distance=1000)\n",
    "cars_near_groceries"
   ]
  },
  {
   "cell_type": "code",
   "execution_count": null,
   "metadata": {},
   "outputs": [],
   "source": [
    "cars_near_groceries.explore(\"Chain\", tiles=\"CartoDB Positron\")"
   ]
  },
  {
   "cell_type": "markdown",
   "metadata": {},
   "source": [
    "## Segmentize\n"
   ]
  },
  {
   "cell_type": "code",
   "execution_count": null,
   "metadata": {},
   "outputs": [],
   "source": [
    "delaunay.extract_unique_points().explore(tiles=\"CartoDB Positron\")"
   ]
  },
  {
   "cell_type": "code",
   "execution_count": null,
   "metadata": {},
   "outputs": [],
   "source": [
    "denser = delaunay.segmentize(1000)\n",
    "denser.head()"
   ]
  },
  {
   "cell_type": "code",
   "execution_count": null,
   "metadata": {},
   "outputs": [],
   "source": [
    "dense_points = denser.extract_unique_points()\n",
    "dense_points.explore(tiles=\"CartoDB Positron\")"
   ]
  },
  {
   "cell_type": "markdown",
   "metadata": {},
   "source": [
    "## Hilbert distance"
   ]
  },
  {
   "cell_type": "code",
   "execution_count": null,
   "metadata": {},
   "outputs": [],
   "source": [
    "dense_points_df = dense_points.to_frame(\"geometry\").explode()\n",
    "dense_points_df"
   ]
  },
  {
   "cell_type": "code",
   "execution_count": null,
   "metadata": {},
   "outputs": [],
   "source": [
    "quantile_label = numpy.repeat(numpy.arange(100), len(dense_points_df) // 100 + 1)[:len(dense_points_df)]"
   ]
  },
  {
   "cell_type": "code",
   "execution_count": null,
   "metadata": {},
   "outputs": [],
   "source": [
    "dense_points_df.explore(quantile_label, cmap=\"viridis\", tiles=\"CartoDB Positron\")"
   ]
  },
  {
   "cell_type": "code",
   "execution_count": null,
   "metadata": {},
   "outputs": [],
   "source": [
    "dense_points_df.dissolve(quantile_label).envelope.explore(tiles=\"CartoDB Positron\")"
   ]
  },
  {
   "cell_type": "code",
   "execution_count": null,
   "metadata": {},
   "outputs": [],
   "source": [
    "spatially_sorted = dense_points_df.sort_values(\"geometry\")"
   ]
  },
  {
   "cell_type": "code",
   "execution_count": null,
   "metadata": {},
   "outputs": [],
   "source": [
    "spatially_sorted.explore(quantile_label, cmap=\"viridis\", tiles=\"CartoDB Positron\")"
   ]
  },
  {
   "cell_type": "code",
   "execution_count": null,
   "metadata": {},
   "outputs": [],
   "source": [
    "spatially_sorted.dissolve(quantile_label).envelope.explore(tiles=\"CartoDB Positron\")"
   ]
  },
  {
   "cell_type": "code",
   "execution_count": null,
   "metadata": {},
   "outputs": [],
   "source": [
    "spatially_sorted.hilbert_distance()"
   ]
  },
  {
   "cell_type": "markdown",
   "metadata": {},
   "source": [
    "TODO: Include Parquet IO after this"
   ]
  },
  {
   "cell_type": "markdown",
   "metadata": {},
   "source": [
    "## Shared paths"
   ]
  },
  {
   "cell_type": "code",
   "execution_count": null,
   "metadata": {},
   "outputs": [],
   "source": [
    "partition_label = numpy.repeat(numpy.arange(11), 7)\n",
    "chicago_partitions = chicago.sort_values(\"geometry\").dissolve(partition_label)"
   ]
  },
  {
   "cell_type": "code",
   "execution_count": null,
   "metadata": {},
   "outputs": [],
   "source": [
    "boundaries_near_shops = chicago.boundary.clip(groceries.buffer(2000).to_crs(chicago.crs))"
   ]
  },
  {
   "cell_type": "code",
   "execution_count": null,
   "metadata": {},
   "outputs": [],
   "source": [
    "m = chicago_partitions.explore(tiles=\"CartoDB Positron\")\n",
    "boundaries_near_shops.explore(m=m, color=\"red\")"
   ]
  },
  {
   "cell_type": "code",
   "execution_count": null,
   "metadata": {},
   "outputs": [],
   "source": [
    "shared = chicago.boundary.shared_paths(chicago_partitions.loc[partition_label].boundary, align=False)"
   ]
  },
  {
   "cell_type": "code",
   "execution_count": null,
   "metadata": {},
   "outputs": [],
   "source": [
    "shared"
   ]
  },
  {
   "cell_type": "code",
   "execution_count": null,
   "metadata": {},
   "outputs": [],
   "source": [
    "shared.explore(tiles=\"CartoDB Positron\")"
   ]
  },
  {
   "cell_type": "code",
   "execution_count": null,
   "metadata": {},
   "outputs": [],
   "source": [
    "same_direction = shared.get_geometry(0)\n",
    "opposite_direction = shared.get_geometry(1)\n",
    "same_direction.head()"
   ]
  },
  {
   "cell_type": "code",
   "execution_count": null,
   "metadata": {},
   "outputs": [],
   "source": [
    "m = same_direction.explore(tiles=\"CartoDB Positron\")\n",
    "opposite_direction.explore(m=m, color=\"red\")"
   ]
  },
  {
   "cell_type": "markdown",
   "metadata": {},
   "source": [
    "## Hausdorrf and Frechet distance"
   ]
  },
  {
   "cell_type": "code",
   "execution_count": null,
   "metadata": {},
   "outputs": [],
   "source": [
    "rivers = geopandas.read_file(get_path(\"eea large rivers\")).set_index(\"NAME\")\n",
    "rivers"
   ]
  },
  {
   "cell_type": "code",
   "execution_count": null,
   "metadata": {},
   "outputs": [],
   "source": [
    "rivers.explore()"
   ]
  },
  {
   "cell_type": "code",
   "execution_count": null,
   "metadata": {},
   "outputs": [],
   "source": [
    "simplified_rivers = rivers.simplify(10_000)"
   ]
  },
  {
   "cell_type": "code",
   "execution_count": null,
   "metadata": {},
   "outputs": [],
   "source": [
    "m = simplified_rivers.explore()\n",
    "rivers.explore(m=m, color='red')"
   ]
  },
  {
   "cell_type": "code",
   "execution_count": null,
   "metadata": {},
   "outputs": [],
   "source": [
    "rivers.frechet_distance(simplified_rivers)"
   ]
  },
  {
   "cell_type": "code",
   "execution_count": null,
   "metadata": {},
   "outputs": [],
   "source": [
    "rivers.hausdorff_distance(simplified_rivers)"
   ]
  },
  {
   "cell_type": "code",
   "execution_count": null,
   "metadata": {},
   "outputs": [],
   "source": [
    "rivers.frechet_distance(simplified_rivers) / rivers.length"
   ]
  }
 ],
 "metadata": {
  "kernelspec": {
   "display_name": "Python 3 (ipykernel)",
   "language": "python",
   "name": "python3"
  },
  "language_info": {
   "codemirror_mode": {
    "name": "ipython",
    "version": 3
   },
   "file_extension": ".py",
   "mimetype": "text/x-python",
   "name": "python",
   "nbconvert_exporter": "python",
   "pygments_lexer": "ipython3",
   "version": "3.12.3"
  },
  "vscode": {
   "interpreter": {
    "hash": "029493424c262204dc2a0b83d1ac63e4e0f746dccf0eac8b34673e62335cac43"
   }
  }
 },
 "nbformat": 4,
 "nbformat_minor": 4
}
