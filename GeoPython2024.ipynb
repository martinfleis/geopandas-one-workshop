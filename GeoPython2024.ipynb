{
 "cells": [
  {
   "attachments": {},
   "cell_type": "markdown",
   "metadata": {},
   "source": [
    "# Getting the most out of GeoPandas 1.0\n",
    "\n",
    "After 10 years since the first release, GeoPandas reached version 1.0. This workshop will showcase how to get the most out of the recent enhancements and develop a code ready for 2024 and beyond.\n",
    "\n",
    "**Martin Fleischmann, Joris van den Bossche**\n",
    "\n",
    "27/05/2024, Basel\n",
    "\n",
    "## Setup\n",
    "\n",
    "Follow the ReadMe to set up the environment correctly. You should have these packages installed:\n",
    "\n",
    "```\n",
    "- geopandas 1.0\n",
    "- pyarrow\n",
    "- geodatasets\n",
    "```\n",
    "\n",
    "## What is GeoPandas?\n",
    "\n",
    "**Easy, fast and scalable geospatial analysis in Python**\n",
    "\n",
    "From the docs:\n",
    "\n",
    "> The goal of GeoPandas is to make working with geospatial data in python easier. It combines the capabilities of pandas and shapely, providing geospatial operations in pandas and a high-level interface to multiple geometries to shapely. GeoPandas enables you to easily do operations in python that would otherwise require a spatial database such as PostGIS."
   ]
  },
  {
   "cell_type": "markdown",
   "metadata": {},
   "source": [
    "## Outline\n",
    "\n",
    "Order to be determined\n",
    "\n",
    "1. dot density mapping (sample)\n",
    "2. union_all\n",
    "3. voronoi and delaunay\n",
    "4. polygonize and build area\n",
    "5. force_2d and force_3d\n",
    "6. dwithin joins\n",
    "7. sjoin with attribute\n",
    "8. extract_unique_points\n",
    "9. frechet_distance and hausdorff_distance\n",
    "10. segmentize\n",
    "11. hilbert_distance and sort_values\n",
    "12. save to parquet with bbox and bbox filtering\n",
    "13. shared_paths and get_geometry"
   ]
  },
  {
   "cell_type": "markdown",
   "metadata": {},
   "source": []
  }
 ],
 "metadata": {
  "kernelspec": {
   "display_name": "Python 3 (ipykernel)",
   "language": "python",
   "name": "python3"
  },
  "language_info": {
   "codemirror_mode": {
    "name": "ipython",
    "version": 3
   },
   "file_extension": ".py",
   "mimetype": "text/x-python",
   "name": "python",
   "nbconvert_exporter": "python",
   "pygments_lexer": "ipython3",
   "version": "3.12.0"
  },
  "vscode": {
   "interpreter": {
    "hash": "029493424c262204dc2a0b83d1ac63e4e0f746dccf0eac8b34673e62335cac43"
   }
  }
 },
 "nbformat": 4,
 "nbformat_minor": 4
}
